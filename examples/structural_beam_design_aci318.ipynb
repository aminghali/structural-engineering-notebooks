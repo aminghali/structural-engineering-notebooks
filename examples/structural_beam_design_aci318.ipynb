{
  "cells": [
    {
      "cell_type": "raw",
      "metadata": {
        "vscode": {
          "languageId": "raw"
        }
      },
      "source": [
        "# STRUCTURAL CALCULATION SHEET\n",
        "\n",
        "## CONCRETE BEAM DESIGN TO ACI 318-19 (SI UNITS)\n",
        "\n",
        "---\n",
        "\n",
        "**Project:** Reinforced Concrete Beam Design  \n",
        "**Engineer:** [Your Name]  \n",
        "**Date:** [Current Date]  \n",
        "**Checked:** [Checker Name]  \n",
        "**Approved:** [Approver Name]  \n",
        "\n",
        "---\n",
        "\n",
        "### SCOPE\n",
        "Design reinforced concrete beams for flexural and shear forces according to ACI 318-19 using SI units.\n",
        "\n",
        "### REFERENCES\n",
        "- ACI 318-19: Building Code Requirements for Structural Concrete\n",
        "- ACI 318M-19: Building Code Requirements for Structural Concrete (Metric)\n",
        "\n",
        "---\n"
      ]
    },
    {
      "cell_type": "code",
      "execution_count": 1,
      "metadata": {},
      "outputs": [
        {
          "name": "stdout",
          "output_type": "stream",
          "text": [
            "✅ Libraries loaded successfully!\n",
            "✅ Handcalcs enabled for professional calculation rendering\n"
          ]
        }
      ],
      "source": [
        "# IMPORT LIBRARIES AND SETUP HANDCALCS\n",
        "import numpy as np\n",
        "import matplotlib.pyplot as plt\n",
        "import handcalcs.render\n",
        "from math import sqrt, pi\n",
        "\n",
        "# Enable handcalcs rendering\n",
        "%load_ext handcalcs.render\n",
        "\n",
        "print(\"✅ Libraries loaded successfully!\")\n",
        "print(\"✅ Handcalcs enabled for professional calculation rendering\")\n"
      ]
    },
    {
      "cell_type": "raw",
      "metadata": {
        "vscode": {
          "languageId": "raw"
        }
      },
      "source": [
        "## 1. INPUT PARAMETERS\n",
        "\n",
        "### 1.1 Material Properties\n"
      ]
    },
    {
      "cell_type": "code",
      "execution_count": 2,
      "metadata": {},
      "outputs": [
        {
          "data": {
            "text/latex": [
              "\\[\n",
              "\\begin{aligned}\n",
              "f_{c'} &= 25 \\; \\;\\textrm{(Concrete compressive strength, MPa)}\n",
              " &f_{y} &= 420 \\; \\;\\textrm{(Steel yield strength, MPa)}\n",
              "\\end{aligned}\n",
              "\\]"
            ],
            "text/plain": [
              "<IPython.core.display.Latex object>"
            ]
          },
          "metadata": {},
          "output_type": "display_data"
        }
      ],
      "source": [
        "%%render\n",
        "# Parameters\n",
        "f_c_prime = 25  # Concrete compressive strength, MPa\n",
        "f_y = 420       # Steel yield strength, MPa\n"
      ]
    },
    {
      "cell_type": "raw",
      "metadata": {
        "vscode": {
          "languageId": "raw"
        }
      },
      "source": [
        "### 1.2 Beam Geometry\n"
      ]
    },
    {
      "cell_type": "code",
      "execution_count": 3,
      "metadata": {},
      "outputs": [
        {
          "data": {
            "text/latex": [
              "\\[\n",
              "\\begin{aligned}\n",
              "L &= 8.000 \\; \\;\\textrm{(Beam span, m)}\n",
              " &b &= 300 \\; \\;\\textrm{(Beam width, mm)}\n",
              " &h &= 600 \\; \\;\\textrm{(Beam height, mm)}\n",
              "\\\\[10pt]\n",
              " \\mathrm{cover} &= 40 \\; \\;\\textrm{(Concrete cover, mm)}\n",
              " &d_{bar} &= 20 \\; \\;\\textrm{(Assumed bar diameter, mm)}\n",
              "\\end{aligned}\n",
              "\\]"
            ],
            "text/plain": [
              "<IPython.core.display.Latex object>"
            ]
          },
          "metadata": {},
          "output_type": "display_data"
        }
      ],
      "source": [
        "%%render\n",
        "# Parameters\n",
        "L = 8.0         # Beam span, m\n",
        "b = 300         # Beam width, mm  \n",
        "h = 600         # Beam height, mm\n",
        "cover = 40      # Concrete cover, mm\n",
        "d_bar = 20      # Assumed bar diameter, mm\n"
      ]
    },
    {
      "cell_type": "code",
      "execution_count": 4,
      "metadata": {},
      "outputs": [
        {
          "data": {
            "text/latex": [
              "\\[\n",
              "\\begin{aligned}\n",
              "d &= h - \\mathrm{cover} - \\frac{ d_{bar} }{ 2 }  = 600 - 40 - \\frac{ 20 }{ 2 } &= 550.000 \\; \\;\\textrm{(Effective depth, mm)}\n",
              "\\end{aligned}\n",
              "\\]"
            ],
            "text/plain": [
              "<IPython.core.display.Latex object>"
            ]
          },
          "metadata": {},
          "output_type": "display_data"
        }
      ],
      "source": [
        "%%render\n",
        "# Effective depth calculation\n",
        "d = h - cover - d_bar/2  # Effective depth, mm\n"
      ]
    },
    {
      "cell_type": "raw",
      "metadata": {
        "vscode": {
          "languageId": "raw"
        }
      },
      "source": [
        "### 1.3 Loading\n"
      ]
    },
    {
      "cell_type": "code",
      "execution_count": 5,
      "metadata": {},
      "outputs": [
        {
          "data": {
            "text/latex": [
              "\\[\n",
              "\\begin{aligned}\n",
              "w_{D} &= 12.000 \\; \\;\\textrm{(Dead load, kN/m)}\n",
              " &w_{L} &= 18.000 \\; \\;\\textrm{(Live load, kN/m)}\n",
              "\\end{aligned}\n",
              "\\]"
            ],
            "text/plain": [
              "<IPython.core.display.Latex object>"
            ]
          },
          "metadata": {},
          "output_type": "display_data"
        }
      ],
      "source": [
        "%%render\n",
        "# Parameters  \n",
        "w_D = 12.0      # Dead load, kN/m\n",
        "w_L = 18.0      # Live load, kN/m\n"
      ]
    },
    {
      "cell_type": "raw",
      "metadata": {
        "vscode": {
          "languageId": "raw"
        }
      },
      "source": [
        "### 1.4 ACI 318-19 Constants\n"
      ]
    },
    {
      "cell_type": "code",
      "execution_count": 6,
      "metadata": {},
      "outputs": [
        {
          "data": {
            "text/latex": [
              "\\[\n",
              "\\begin{aligned}\n",
              "\\phi_{flexure} &= 0.900 \\; \\;\\textrm{(Strength reduction factor for flexure)}\n",
              " &\\phi_{shear} &= 0.750 \\; \\;\\textrm{(Strength reduction factor for shear)}\n",
              " &\\gamma_{D} &= 1.200 \\; \\;\\textrm{(Load factor for dead load)}\n",
              "\\\\[10pt]\n",
              " \\gamma_{L} &= 1.600 \\; \\;\\textrm{(Load factor for live load)}\n",
              "\\end{aligned}\n",
              "\\]"
            ],
            "text/plain": [
              "<IPython.core.display.Latex object>"
            ]
          },
          "metadata": {},
          "output_type": "display_data"
        }
      ],
      "source": [
        "%%render\n",
        "# Parameters\n",
        "phi_flexure = 0.9    # Strength reduction factor for flexure\n",
        "phi_shear = 0.75     # Strength reduction factor for shear\n",
        "gamma_D = 1.2        # Load factor for dead load  \n",
        "gamma_L = 1.6        # Load factor for live load\n"
      ]
    },
    {
      "cell_type": "raw",
      "metadata": {
        "vscode": {
          "languageId": "raw"
        }
      },
      "source": [
        "## 2. LOAD ANALYSIS\n",
        "\n",
        "### 2.1 Factored Loads\n"
      ]
    },
    {
      "cell_type": "code",
      "execution_count": 7,
      "metadata": {},
      "outputs": [
        {
          "data": {
            "text/latex": [
              "\\[\n",
              "\\begin{aligned}\n",
              "w_{u} &= \\gamma_{D} \\cdot w_{D} + \\gamma_{L} \\cdot w_{L}  = 1.200 \\cdot 12.000 + 1.600 \\cdot 18.000 &= 43.200 \\; \\;\\textrm{(Factored distributed load, kN/m)}\n",
              "\\end{aligned}\n",
              "\\]"
            ],
            "text/plain": [
              "<IPython.core.display.Latex object>"
            ]
          },
          "metadata": {},
          "output_type": "display_data"
        }
      ],
      "source": [
        "%%render\n",
        "# Factored load calculation per ACI 318-19 Section 5.3.1\n",
        "w_u = gamma_D * w_D + gamma_L * w_L  # Factored distributed load, kN/m\n"
      ]
    },
    {
      "cell_type": "raw",
      "metadata": {
        "vscode": {
          "languageId": "raw"
        }
      },
      "source": [
        "### 2.2 Critical Forces\n"
      ]
    },
    {
      "cell_type": "code",
      "execution_count": 8,
      "metadata": {},
      "outputs": [
        {
          "data": {
            "text/latex": [
              "\\[\n",
              "\\begin{aligned}\n",
              "M_{u} &= w_{u} \\cdot \\frac{ \\left( L \\right) ^{ 2 } }{ 8 }  = 43.200 \\cdot \\frac{ \\left( 8.000 \\right) ^{ 2 } }{ 8 } &= 345.600 \\; \\;\\textrm{(Ultimate moment, kN⋅m)}\n",
              "\\end{aligned}\n",
              "\\]"
            ],
            "text/plain": [
              "<IPython.core.display.Latex object>"
            ]
          },
          "metadata": {},
          "output_type": "display_data"
        }
      ],
      "source": [
        "%%render\n",
        "# Maximum moment for simply supported beam with uniform load\n",
        "M_u = w_u * L**2 / 8  # Ultimate moment, kN⋅m\n"
      ]
    },
    {
      "cell_type": "code",
      "execution_count": 9,
      "metadata": {},
      "outputs": [
        {
          "data": {
            "text/latex": [
              "\\[\n",
              "\\begin{aligned}\n",
              "V_{u} &= w_{u} \\cdot \\frac{ L }{ 2 }  = 43.200 \\cdot \\frac{ 8.000 }{ 2 } &= 172.800 \\; \\;\\textrm{(Ultimate shear, kN)}\n",
              "\\end{aligned}\n",
              "\\]"
            ],
            "text/plain": [
              "<IPython.core.display.Latex object>"
            ]
          },
          "metadata": {},
          "output_type": "display_data"
        }
      ],
      "source": [
        "%%render\n",
        "# Maximum shear for simply supported beam with uniform load  \n",
        "V_u = w_u * L / 2  # Ultimate shear, kN\n"
      ]
    },
    {
      "cell_type": "raw",
      "metadata": {
        "vscode": {
          "languageId": "raw"
        }
      },
      "source": [
        "## 3. MATERIAL PROPERTIES\n",
        "\n",
        "### 3.1 Concrete Properties\n"
      ]
    },
    {
      "cell_type": "code",
      "execution_count": 10,
      "metadata": {},
      "outputs": [
        {
          "data": {
            "text/latex": [
              "\\[\n",
              "\\begin{aligned}\n",
              "\\beta_{1} &= 0.850 \\; \\;\\textrm{(For f'c ≤ 28 MPa)}\n",
              "\\end{aligned}\n",
              "\\]"
            ],
            "text/plain": [
              "<IPython.core.display.Latex object>"
            ]
          },
          "metadata": {},
          "output_type": "display_data"
        }
      ],
      "source": [
        "%%render\n",
        "# β₁ factor per ACI 318-19 Section 22.2.2.4.3\n",
        "beta_1 = 0.85  # For f'c ≤ 28 MPa\n"
      ]
    },
    {
      "cell_type": "code",
      "execution_count": 11,
      "metadata": {},
      "outputs": [
        {
          "data": {
            "text/latex": [
              "\\[\n",
              "\\begin{aligned}\n",
              "E_{c} &= 4700 \\cdot \\sqrt { f_{c'} }  = 4700 \\cdot \\sqrt { 25 } &= 23500.000 \\; \\;\\textrm{(Concrete modulus, MPa)}\n",
              "\\end{aligned}\n",
              "\\]"
            ],
            "text/plain": [
              "<IPython.core.display.Latex object>"
            ]
          },
          "metadata": {},
          "output_type": "display_data"
        }
      ],
      "source": [
        "%%render\n",
        "# Concrete modulus of elasticity per ACI 318-19 Section 19.2.2.1(a)\n",
        "E_c = 4700 * sqrt(f_c_prime)  # Concrete modulus, MPa\n"
      ]
    },
    {
      "cell_type": "raw",
      "metadata": {
        "vscode": {
          "languageId": "raw"
        }
      },
      "source": [
        "## 4. FLEXURAL DESIGN\n",
        "\n",
        "### 4.1 Minimum Reinforcement\n"
      ]
    },
    {
      "cell_type": "code",
      "execution_count": 12,
      "metadata": {},
      "outputs": [
        {
          "data": {
            "text/latex": [
              "\\[\n",
              "\\begin{aligned}\n",
              "A_{s_{min_{1}}} &= 0.25 \\cdot \\frac{ \\sqrt { f_{c'} } }{ f_{y} } \\cdot b \\cdot d  = 0.25 \\cdot \\frac{ \\sqrt { 25 } }{ 420 } \\cdot 300 \\cdot 550.000 &= 491.071 \\; \\;\\textrm{(First criterion, mm²)}\n",
              "\\end{aligned}\n",
              "\\]"
            ],
            "text/plain": [
              "<IPython.core.display.Latex object>"
            ]
          },
          "metadata": {},
          "output_type": "display_data"
        }
      ],
      "source": [
        "%%render\n",
        "# Minimum reinforcement per ACI 318-19 Section 9.6.1.2\n",
        "A_s_min_1 = 0.25 * sqrt(f_c_prime) / f_y * b * d  # First criterion, mm²\n"
      ]
    },
    {
      "cell_type": "code",
      "execution_count": 13,
      "metadata": {},
      "outputs": [
        {
          "data": {
            "text/latex": [
              "\\[\n",
              "\\begin{aligned}\n",
              "A_{s_{min_{2}}} &= 1.4 \\cdot b \\cdot \\frac{ d }{ f_{y} }  = 1.4 \\cdot 300 \\cdot \\frac{ 550.000 }{ 420 } &= 550.000 \\; \\;\\textrm{(Second criterion, mm²)}\n",
              "\\end{aligned}\n",
              "\\]"
            ],
            "text/plain": [
              "<IPython.core.display.Latex object>"
            ]
          },
          "metadata": {},
          "output_type": "display_data"
        }
      ],
      "source": [
        "%%render\n",
        "A_s_min_2 = 1.4 * b * d / f_y  # Second criterion, mm²\n"
      ]
    },
    {
      "cell_type": "code",
      "execution_count": 14,
      "metadata": {},
      "outputs": [
        {
          "data": {
            "text/latex": [
              "\\[\n",
              "\\begin{aligned}\n",
              "A_{s_{min}} &= \\operatorname{max} { \\left( A_{s_{min_{1}}} ,\\  A_{s_{min_{2}}} \\right) }  = \\operatorname{max} { \\left( 491.071 ,\\  550.000 \\right) } &= 550.000 \\; \\;\\textrm{(Minimum steel area, mm²)}\n",
              "\\end{aligned}\n",
              "\\]"
            ],
            "text/plain": [
              "<IPython.core.display.Latex object>"
            ]
          },
          "metadata": {},
          "output_type": "display_data"
        }
      ],
      "source": [
        "%%render\n",
        "# Controlling minimum reinforcement\n",
        "A_s_min = max(A_s_min_1, A_s_min_2)  # Minimum steel area, mm²\n"
      ]
    },
    {
      "cell_type": "raw",
      "metadata": {
        "vscode": {
          "languageId": "raw"
        }
      },
      "source": [
        "### 4.2 Required Reinforcement\n"
      ]
    },
    {
      "cell_type": "code",
      "execution_count": 15,
      "metadata": {},
      "outputs": [
        {
          "data": {
            "text/latex": [
              "\\[\n",
              "\\begin{aligned}\n",
              "M_{u_{Nmm}} &= M_{u} \\cdot 1 \\times 10 ^ {6}  = 345.600 \\cdot 1 \\times 10 ^ {6} &= 345600000.000 \\; \\;\\textrm{(Ultimate moment, N⋅mm)}\n",
              "\\end{aligned}\n",
              "\\]"
            ],
            "text/plain": [
              "<IPython.core.display.Latex object>"
            ]
          },
          "metadata": {},
          "output_type": "display_data"
        }
      ],
      "source": [
        "%%render\n",
        "# Convert moment to N⋅mm for consistency\n",
        "M_u_Nmm = M_u * 1e6  # Ultimate moment, N⋅mm\n"
      ]
    },
    {
      "cell_type": "code",
      "execution_count": 16,
      "metadata": {},
      "outputs": [
        {
          "data": {
            "text/latex": [
              "\\[\n",
              "\\begin{aligned}\n",
              "z &= 0.9 \\cdot d  = 0.9 \\cdot 550.000 &= 495.000 \\; \\;\\textrm{(Internal lever arm, mm)}\n",
              "\\\\[10pt]\n",
              "A_{s_{req_{approx}}} &= \\frac{ M_{u_{Nmm}} }{ \\phi_{flexure} \\cdot f_{y} \\cdot z }  = \\frac{ 345600000.000 }{ 0.900 \\cdot 420 \\cdot 495.000 } &= 1847.042 \\; \\;\\textrm{(Required steel area, mm²)}\n",
              "\\end{aligned}\n",
              "\\]"
            ],
            "text/plain": [
              "<IPython.core.display.Latex object>"
            ]
          },
          "metadata": {},
          "output_type": "display_data"
        }
      ],
      "source": [
        "%%render\n",
        "# Approximate required steel area (assuming internal lever arm = 0.9d)\n",
        "z = 0.9 * d  # Internal lever arm, mm\n",
        "A_s_req_approx = M_u_Nmm / (phi_flexure * f_y * z)  # Required steel area, mm²\n"
      ]
    },
    {
      "cell_type": "code",
      "execution_count": 17,
      "metadata": {},
      "outputs": [
        {
          "data": {
            "text/latex": [
              "\\[\n",
              "\\begin{aligned}\n",
              "A_{s_{required}} &= \\operatorname{max} { \\left( A_{s_{req_{approx}}} ,\\  A_{s_{min}} \\right) }  = \\operatorname{max} { \\left( 1847.042 ,\\  550.000 \\right) } &= 1847.042 \\; \\;\\textrm{(Required steel area, mm²)}\n",
              "\\end{aligned}\n",
              "\\]"
            ],
            "text/plain": [
              "<IPython.core.display.Latex object>"
            ]
          },
          "metadata": {},
          "output_type": "display_data"
        }
      ],
      "source": [
        "%%render\n",
        "# Final required steel area\n",
        "A_s_required = max(A_s_req_approx, A_s_min)  # Required steel area, mm²\n"
      ]
    },
    {
      "cell_type": "raw",
      "metadata": {
        "vscode": {
          "languageId": "raw"
        }
      },
      "source": [
        "### 4.3 Reinforcement Ratio Check\n"
      ]
    },
    {
      "cell_type": "code",
      "execution_count": 18,
      "metadata": {},
      "outputs": [
        {
          "data": {
            "text/latex": [
              "\\[\n",
              "\\begin{aligned}\n",
              "\\rho &= \\frac{ A_{s_{required}} }{ b \\cdot d }  = \\frac{ 1847.042 }{ 300 \\cdot 550.000 } &= 0.011 \\; \\;\\textrm{(Reinforcement ratio)}\n",
              "\\end{aligned}\n",
              "\\]"
            ],
            "text/plain": [
              "<IPython.core.display.Latex object>"
            ]
          },
          "metadata": {},
          "output_type": "display_data"
        }
      ],
      "source": [
        "%%render\n",
        "# Reinforcement ratio\n",
        "rho = A_s_required / (b * d)  # Reinforcement ratio\n"
      ]
    },
    {
      "cell_type": "code",
      "execution_count": 19,
      "metadata": {},
      "outputs": [
        {
          "data": {
            "text/latex": [
              "\\[\n",
              "\\begin{aligned}\n",
              "\\rho_{max} &= 0.025 \\; \\;\\textrm{(Maximum reinforcement ratio per ACI 318-19)}\n",
              "\\end{aligned}\n",
              "\\]"
            ],
            "text/plain": [
              "<IPython.core.display.Latex object>"
            ]
          },
          "metadata": {},
          "output_type": "display_data"
        }
      ],
      "source": [
        "%%render\n",
        "# Maximum reinforcement ratio for tension-controlled section\n",
        "rho_max = 0.025  # Maximum reinforcement ratio per ACI 318-19\n"
      ]
    },
    {
      "cell_type": "raw",
      "metadata": {
        "vscode": {
          "languageId": "raw"
        }
      },
      "source": [
        "### 4.4 Moment Capacity Check\n"
      ]
    },
    {
      "cell_type": "code",
      "execution_count": 20,
      "metadata": {},
      "outputs": [
        {
          "data": {
            "text/latex": [
              "\\[\n",
              "\\begin{aligned}\n",
              "c &= A_{s_{required}} \\cdot \\frac{ f_{y} }{ 0.85 \\cdot f_{c'} \\cdot b \\cdot \\beta_{1} }  = 1847.042 \\cdot \\frac{ 420 }{ 0.85 \\cdot 25 \\cdot 300 \\cdot 0.850 } &= 143.162 \\; \\;\\textrm{(Neutral axis depth, mm)}\n",
              "\\end{aligned}\n",
              "\\]"
            ],
            "text/plain": [
              "<IPython.core.display.Latex object>"
            ]
          },
          "metadata": {},
          "output_type": "display_data"
        }
      ],
      "source": [
        "%%render\n",
        "# Neutral axis depth\n",
        "c = A_s_required * f_y / (0.85 * f_c_prime * b * beta_1)  # Neutral axis depth, mm\n"
      ]
    },
    {
      "cell_type": "code",
      "execution_count": 21,
      "metadata": {},
      "outputs": [
        {
          "data": {
            "text/latex": [
              "\\[\n",
              "\\begin{aligned}\n",
              "a &= \\beta_{1} \\cdot c  = 0.850 \\cdot 143.162 &= 121.687 \\; \\;\\textrm{(Stress block depth, mm)}\n",
              "\\end{aligned}\n",
              "\\]"
            ],
            "text/plain": [
              "<IPython.core.display.Latex object>"
            ]
          },
          "metadata": {},
          "output_type": "display_data"
        }
      ],
      "source": [
        "%%render\n",
        "# Equivalent rectangular stress block depth\n",
        "a = beta_1 * c  # Stress block depth, mm\n"
      ]
    },
    {
      "cell_type": "code",
      "execution_count": 22,
      "metadata": {},
      "outputs": [
        {
          "data": {
            "text/latex": [
              "\\[\n",
              "\\begin{aligned}\n",
              "M_{n} &= A_{s_{required}} \\cdot f_{y} \\cdot \\frac{ d - \\frac{ a }{ 2 } }{ 1 \\times 10 ^ {6} }  = 1847.042 \\cdot 420 \\cdot \\frac{ 550.000 - \\frac{ 121.687 }{ 2 } }{ 1 \\times 10 ^ {6} } &= 379.467 \\; \\;\\textrm{(Nominal moment capacity, kN⋅m)}\n",
              "\\end{aligned}\n",
              "\\]"
            ],
            "text/plain": [
              "<IPython.core.display.Latex object>"
            ]
          },
          "metadata": {},
          "output_type": "display_data"
        }
      ],
      "source": [
        "%%render\n",
        "# Nominal moment capacity\n",
        "M_n = A_s_required * f_y * (d - a/2) / 1e6  # Nominal moment capacity, kN⋅m\n"
      ]
    },
    {
      "cell_type": "code",
      "execution_count": 23,
      "metadata": {},
      "outputs": [
        {
          "data": {
            "text/latex": [
              "\\[\n",
              "\\begin{aligned}\n",
              "\\phi_{M_{n}} &= \\phi_{flexure} \\cdot M_{n}  = 0.900 \\cdot 379.467 &= 341.520 \\; \\;\\textrm{(Design moment capacity, kN⋅m)}\n",
              "\\end{aligned}\n",
              "\\]"
            ],
            "text/plain": [
              "<IPython.core.display.Latex object>"
            ]
          },
          "metadata": {},
          "output_type": "display_data"
        }
      ],
      "source": [
        "%%render\n",
        "# Design moment capacity\n",
        "phi_M_n = phi_flexure * M_n  # Design moment capacity, kN⋅m\n"
      ]
    },
    {
      "cell_type": "code",
      "execution_count": 24,
      "metadata": {},
      "outputs": [
        {
          "data": {
            "text/latex": [
              "\\[\n",
              "\\begin{aligned}\n",
              "\\mathrm{moment}_{utilization} &= \\frac{ M_{u} }{ \\phi_{M_{n}} }  = \\frac{ 345.600 }{ 341.520 } &= 1.012 \\; \\;\\textrm{(Moment utilization ratio)}\n",
              "\\end{aligned}\n",
              "\\]"
            ],
            "text/plain": [
              "<IPython.core.display.Latex object>"
            ]
          },
          "metadata": {},
          "output_type": "display_data"
        }
      ],
      "source": [
        "%%render\n",
        "# Moment utilization ratio\n",
        "moment_utilization = M_u / phi_M_n  # Moment utilization ratio\n"
      ]
    },
    {
      "cell_type": "raw",
      "metadata": {
        "vscode": {
          "languageId": "raw"
        }
      },
      "source": [
        "## 5. SHEAR DESIGN\n",
        "\n",
        "### 5.1 Concrete Shear Capacity\n"
      ]
    },
    {
      "cell_type": "code",
      "execution_count": 25,
      "metadata": {},
      "outputs": [
        {
          "data": {
            "text/latex": [
              "\\[\n",
              "\\begin{aligned}\n",
              "V_{c} &= 0.17 \\cdot \\sqrt { f_{c'} } \\cdot b \\cdot \\frac{ d }{ 1000 }  = 0.17 \\cdot \\sqrt { 25 } \\cdot 300 \\cdot \\frac{ 550.000 }{ 1000 } &= 140.250 \\; \\;\\textrm{(Concrete shear capacity, kN)}\n",
              "\\end{aligned}\n",
              "\\]"
            ],
            "text/plain": [
              "<IPython.core.display.Latex object>"
            ]
          },
          "metadata": {},
          "output_type": "display_data"
        }
      ],
      "source": [
        "%%render\n",
        "# Concrete shear capacity per ACI 318-19 Section 22.5.5.1\n",
        "V_c = 0.17 * sqrt(f_c_prime) * b * d / 1000  # Concrete shear capacity, kN\n"
      ]
    },
    {
      "cell_type": "code",
      "execution_count": 26,
      "metadata": {},
      "outputs": [
        {
          "data": {
            "text/latex": [
              "\\[\n",
              "\\begin{aligned}\n",
              "\\phi_{V_{c}} &= \\phi_{shear} \\cdot V_{c}  = 0.750 \\cdot 140.250 &= 105.188 \\; \\;\\textrm{(Design concrete shear capacity, kN)}\n",
              "\\end{aligned}\n",
              "\\]"
            ],
            "text/plain": [
              "<IPython.core.display.Latex object>"
            ]
          },
          "metadata": {},
          "output_type": "display_data"
        }
      ],
      "source": [
        "%%render\n",
        "# Design concrete shear capacity\n",
        "phi_V_c = phi_shear * V_c  # Design concrete shear capacity, kN\n"
      ]
    },
    {
      "cell_type": "raw",
      "metadata": {
        "vscode": {
          "languageId": "raw"
        }
      },
      "source": [
        "### 5.2 Shear Reinforcement Requirement\n"
      ]
    },
    {
      "cell_type": "code",
      "execution_count": 27,
      "metadata": {},
      "outputs": [
        {
          "data": {
            "text/latex": [
              "\\[\n",
              "\\begin{aligned}\n",
              "V_{s_{required}} &= \\operatorname{max} { \\left( 0 ,\\  \\frac{ V_{u} }{ \\phi_{shear} } - V_{c} \\right) }  = \\operatorname{max} { \\left( 0 ,\\  \\frac{ 172.800 }{ 0.750 } - 140.250 \\right) } &= 90.150 \\; \\;\\textrm{(Required steel shear capacity, kN)}\n",
              "\\end{aligned}\n",
              "\\]"
            ],
            "text/plain": [
              "<IPython.core.display.Latex object>"
            ]
          },
          "metadata": {},
          "output_type": "display_data"
        }
      ],
      "source": [
        "%%render\n",
        "# Required steel shear capacity\n",
        "V_s_required = max(0, V_u / phi_shear - V_c)  # Required steel shear capacity, kN\n"
      ]
    },
    {
      "cell_type": "code",
      "execution_count": 28,
      "metadata": {},
      "outputs": [
        {
          "data": {
            "text/latex": [
              "\\[\n",
              "\\begin{aligned}\n",
              "\\mathrm{shear}_{utilization} &= \\frac{ V_{u} }{ \\phi_{V_{c}} }  = \\frac{ 172.800 }{ 105.188 } &= 1.643 \\; \\;\\textrm{(Shear utilization ratio)}\n",
              "\\end{aligned}\n",
              "\\]"
            ],
            "text/plain": [
              "<IPython.core.display.Latex object>"
            ]
          },
          "metadata": {},
          "output_type": "display_data"
        }
      ],
      "source": [
        "%%render\n",
        "# Shear utilization ratio\n",
        "shear_utilization = V_u / phi_V_c  # Shear utilization ratio\n"
      ]
    },
    {
      "cell_type": "raw",
      "metadata": {
        "vscode": {
          "languageId": "raw"
        }
      },
      "source": [
        "### 5.3 Stirrup Design (if required)\n"
      ]
    },
    {
      "cell_type": "code",
      "execution_count": 29,
      "metadata": {},
      "outputs": [
        {
          "data": {
            "text/latex": [
              "\\[\n",
              "\\begin{aligned}\n",
              "d_{stirrup} &= 10 \\; \\;\\textrm{(Stirrup diameter, mm)}\n",
              " &A_{v} &= 157.080 \\; \\;\\textrm{(Area of 2-leg stirrups, mm²)}\n",
              "\\end{aligned}\n",
              "\\]"
            ],
            "text/plain": [
              "<IPython.core.display.Latex object>"
            ]
          },
          "metadata": {},
          "output_type": "display_data"
        }
      ],
      "source": [
        "%%render\n",
        "# Stirrup parameters (assuming 2-leg 10mm stirrups)\n",
        "d_stirrup = 10  # Stirrup diameter, mm\n",
        "A_v = 2 * pi * (d_stirrup/2)**2  # Area of 2-leg stirrups, mm²\n"
      ]
    },
    {
      "cell_type": "code",
      "execution_count": 30,
      "metadata": {},
      "outputs": [
        {
          "data": {
            "text/latex": [
              "\\[\n",
              "\\begin{aligned}\n",
              "s_{max} &= \\operatorname{min} { \\left( \\frac{ d }{ 2 } ,\\  600 \\right) }  = \\operatorname{min} { \\left( \\frac{ 550.000 }{ 2 } ,\\  600 \\right) } &= 275.000 \\; \\;\\textrm{(Maximum stirrup spacing, mm)}\n",
              "\\end{aligned}\n",
              "\\]"
            ],
            "text/plain": [
              "<IPython.core.display.Latex object>"
            ]
          },
          "metadata": {},
          "output_type": "display_data"
        }
      ],
      "source": [
        "%%render\n",
        "# Maximum stirrup spacing\n",
        "s_max = min(d/2, 600)  # Maximum stirrup spacing, mm\n"
      ]
    },
    {
      "cell_type": "raw",
      "metadata": {
        "vscode": {
          "languageId": "raw"
        }
      },
      "source": [
        "## 6. REINFORCEMENT SELECTION\n",
        "\n",
        "### 6.1 Main Reinforcement\n"
      ]
    },
    {
      "cell_type": "code",
      "execution_count": 31,
      "metadata": {},
      "outputs": [
        {
          "name": "stdout",
          "output_type": "stream",
          "text": [
            "REINFORCEMENT OPTIONS:\n",
            "========================================\n",
            "6Ø20: Area = 1885 mm² (Ratio = 1.02, Spacing = 44 mm)\n",
            "7Ø20: Area = 2199 mm² (Ratio = 1.19, Spacing = 37 mm)\n",
            "4Ø25: Area = 1964 mm² (Ratio = 1.06, Spacing = 73 mm)\n",
            "========================================\n"
          ]
        }
      ],
      "source": [
        "# Standard bar areas (mm²)\n",
        "bar_areas = {\n",
        "    10: 78.5,\n",
        "    12: 113.1, \n",
        "    16: 201.1,\n",
        "    20: 314.2,\n",
        "    25: 490.9,\n",
        "    32: 804.2\n",
        "}\n",
        "\n",
        "# Find suitable bar combination\n",
        "print(\"REINFORCEMENT OPTIONS:\")\n",
        "print(\"=\" * 40)\n",
        "\n",
        "for diameter, area in bar_areas.items():\n",
        "    for num_bars in range(2, 8):\n",
        "        total_area = num_bars * area\n",
        "        if 0.95 * A_s_required <= total_area <= 1.3 * A_s_required:\n",
        "            ratio = total_area / A_s_required\n",
        "            spacing = (b - 2*cover) / (num_bars - 1) if num_bars > 1 else 0\n",
        "            print(f\"{num_bars}Ø{diameter}: Area = {total_area:.0f} mm² (Ratio = {ratio:.2f}, Spacing = {spacing:.0f} mm)\")\n",
        "\n",
        "print(\"=\" * 40)\n"
      ]
    },
    {
      "cell_type": "raw",
      "metadata": {
        "vscode": {
          "languageId": "raw"
        }
      },
      "source": [
        "## 7. DESIGN SUMMARY AND CHECKS\n"
      ]
    },
    {
      "cell_type": "code",
      "execution_count": 32,
      "metadata": {},
      "outputs": [
        {
          "name": "stdout",
          "output_type": "stream",
          "text": [
            "DESIGN SUMMARY\n",
            "==================================================\n",
            "Beam dimensions: 300 mm × 600 mm\n",
            "Effective depth: 550 mm\n",
            "Concrete strength: f'c = 25 MPa\n",
            "Steel yield strength: fy = 420 MPa\n",
            "\n",
            "LOADING:\n",
            "Dead load: 12.0 kN/m\n",
            "Live load: 18.0 kN/m\n",
            "Factored load: 43.2 kN/m\n",
            "\n",
            "CRITICAL FORCES:\n",
            "Ultimate moment: Mu = 345.6 kN⋅m\n",
            "Ultimate shear: Vu = 172.8 kN\n",
            "\n",
            "FLEXURAL DESIGN:\n",
            "Required steel area: As = 1847 mm²\n",
            "Reinforcement ratio: ρ = 0.0112\n",
            "Design moment capacity: φMn = 341.5 kN⋅m\n",
            "Moment utilization: 1.01\n",
            "\n",
            "SHEAR DESIGN:\n",
            "Concrete shear capacity: φVc = 105.2 kN\n",
            "Required steel shear: Vs = 90.1 kN\n",
            "Shear utilization: 1.64\n",
            "\n",
            "DESIGN STATUS:\n",
            "❌ DESIGN IS NOT ADEQUATE\n",
            "   - Moment capacity insufficient\n",
            "   - Shear capacity insufficient\n",
            "==================================================\n"
          ]
        }
      ],
      "source": [
        "print(\"DESIGN SUMMARY\")\n",
        "print(\"=\" * 50)\n",
        "print(f\"Beam dimensions: {b} mm × {h} mm\")\n",
        "print(f\"Effective depth: {d:.0f} mm\")\n",
        "print(f\"Concrete strength: f'c = {f_c_prime} MPa\")\n",
        "print(f\"Steel yield strength: fy = {f_y} MPa\")\n",
        "print()\n",
        "print(\"LOADING:\")\n",
        "print(f\"Dead load: {w_D} kN/m\")\n",
        "print(f\"Live load: {w_L} kN/m\") \n",
        "print(f\"Factored load: {w_u:.1f} kN/m\")\n",
        "print()\n",
        "print(\"CRITICAL FORCES:\")\n",
        "print(f\"Ultimate moment: Mu = {M_u:.1f} kN⋅m\")\n",
        "print(f\"Ultimate shear: Vu = {V_u:.1f} kN\")\n",
        "print()\n",
        "print(\"FLEXURAL DESIGN:\")\n",
        "print(f\"Required steel area: As = {A_s_required:.0f} mm²\")\n",
        "print(f\"Reinforcement ratio: ρ = {rho:.4f}\")\n",
        "print(f\"Design moment capacity: φMn = {phi_M_n:.1f} kN⋅m\")\n",
        "print(f\"Moment utilization: {moment_utilization:.2f}\")\n",
        "print()\n",
        "print(\"SHEAR DESIGN:\")\n",
        "print(f\"Concrete shear capacity: φVc = {phi_V_c:.1f} kN\")\n",
        "print(f\"Required steel shear: Vs = {V_s_required:.1f} kN\")\n",
        "print(f\"Shear utilization: {shear_utilization:.2f}\")\n",
        "print()\n",
        "print(\"DESIGN STATUS:\")\n",
        "if moment_utilization <= 1.0 and shear_utilization <= 1.0 and rho <= rho_max:\n",
        "    print(\"✅ DESIGN IS ADEQUATE\")\n",
        "else:\n",
        "    print(\"❌ DESIGN IS NOT ADEQUATE\")\n",
        "    if moment_utilization > 1.0:\n",
        "        print(\"   - Moment capacity insufficient\")\n",
        "    if shear_utilization > 1.0:\n",
        "        print(\"   - Shear capacity insufficient\") \n",
        "    if rho > rho_max:\n",
        "        print(\"   - Reinforcement ratio exceeds maximum\")\n",
        "print(\"=\" * 50)\n"
      ]
    },
    {
      "cell_type": "raw",
      "metadata": {
        "vscode": {
          "languageId": "raw"
        }
      },
      "source": [
        "## 8. BEAM ANALYSIS AND DIAGRAMS\n"
      ]
    },
    {
      "cell_type": "code",
      "execution_count": 33,
      "metadata": {},
      "outputs": [
        {
          "data": {
            "image/png": "[encoded data removed]",
            "text/plain": [
              "<Figure size 1200x1000 with 3 Axes>"
            ]
          },
          "metadata": {},
          "output_type": "display_data"
        },
        {
          "name": "stdout",
          "output_type": "stream",
          "text": [
            "✅ Maximum moment: 345.6 kN⋅m at x = 4.0 m\n",
            "✅ Maximum shear: 172.8 kN at supports\n"
          ]
        }
      ],
      "source": [
        "# Create beam analysis and diagrams\n",
        "import matplotlib.patches as patches\n",
        "\n",
        "# Generate points along beam\n",
        "x = np.linspace(0, L, 100)\n",
        "\n",
        "# Calculate shear force and bending moment\n",
        "V = np.where(x <= L/2, w_u * (L/2 - x), -w_u * (x - L/2))\n",
        "M = w_u * x * (L - x) / 2\n",
        "\n",
        "# Create figure with subplots\n",
        "fig, (ax1, ax2, ax3) = plt.subplots(3, 1, figsize=(12, 10))\n",
        "fig.suptitle('BEAM ANALYSIS - SIMPLY SUPPORTED BEAM', fontsize=16, fontweight='bold')\n",
        "\n",
        "# 1. Loading diagram\n",
        "ax1.set_title('Loading Diagram', fontweight='bold')\n",
        "ax1.plot([0, L], [0, 0], 'k-', linewidth=6, label='Beam')\n",
        "\n",
        "# Draw supports\n",
        "ax1.plot(0, 0, 'ko', markersize=10)  # Left support\n",
        "ax1.plot([0, 0], [-0.5, 0], 'k-', linewidth=3)\n",
        "ax1.plot([-0.2, 0.2], [-0.5, -0.5], 'k-', linewidth=3)\n",
        "\n",
        "ax1.plot(L, 0, 'ko', markersize=10)  # Right support  \n",
        "circle = plt.Circle((L, -0.25), 0.15, fill=False, linewidth=2)\n",
        "ax1.add_patch(circle)\n",
        "ax1.plot([L-0.2, L+0.2], [-0.5, -0.5], 'k-', linewidth=3)\n",
        "\n",
        "# Distributed load arrows\n",
        "x_load = np.linspace(0.2, L-0.2, 15)\n",
        "for xi in x_load:\n",
        "    ax1.annotate('', xy=(xi, 0), xytext=(xi, 1),\n",
        "                arrowprops=dict(arrowstyle='->', lw=1.5, color='red'))\n",
        "\n",
        "ax1.text(L/2, 1.2, f'w = {w_u:.1f} kN/m', ha='center', fontweight='bold', color='red')\n",
        "ax1.text(0, -0.8, f'R₁ = {w_u*L/2:.1f} kN', ha='center', fontweight='bold', color='green')\n",
        "ax1.text(L, -0.8, f'R₂ = {w_u*L/2:.1f} kN', ha='center', fontweight='bold', color='green')\n",
        "\n",
        "ax1.set_xlim(-0.5, L+0.5)\n",
        "ax1.set_ylim(-1, 1.5)\n",
        "ax1.set_ylabel('Loading')\n",
        "ax1.grid(True, alpha=0.3)\n",
        "\n",
        "# 2. Shear force diagram\n",
        "ax2.set_title('Shear Force Diagram (SFD)', fontweight='bold')\n",
        "ax2.plot(x, V, 'b-', linewidth=3, label='Shear Force')\n",
        "ax2.fill_between(x, V, alpha=0.3, color='blue')\n",
        "ax2.axhline(y=0, color='k', linestyle='-', alpha=0.5)\n",
        "ax2.plot(L/2, 0, 'ro', markersize=8)\n",
        "ax2.text(L/4, V[25]/2, f'V_max = {max(V):.1f} kN', fontweight='bold', color='blue')\n",
        "ax2.text(3*L/4, V[75]/2, f'V_min = {min(V):.1f} kN', fontweight='bold', color='blue')\n",
        "ax2.set_ylabel('Shear Force (kN)')\n",
        "ax2.grid(True, alpha=0.3)\n",
        "\n",
        "# 3. Bending moment diagram\n",
        "ax3.set_title('Bending Moment Diagram (BMD)', fontweight='bold')\n",
        "ax3.plot(x, M, 'r-', linewidth=3, label='Bending Moment')\n",
        "ax3.fill_between(x, M, alpha=0.3, color='red')\n",
        "ax3.axhline(y=0, color='k', linestyle='-', alpha=0.5)\n",
        "max_M_idx = np.argmax(M)\n",
        "ax3.plot(x[max_M_idx], M[max_M_idx], 'ko', markersize=8)\n",
        "ax3.text(x[max_M_idx], M[max_M_idx] + 5, f'M_max = {max(M):.1f} kN⋅m', \n",
        "         ha='center', fontweight='bold', color='black')\n",
        "ax3.set_xlabel('Distance along beam (m)')\n",
        "ax3.set_ylabel('Bending Moment (kN⋅m)')\n",
        "ax3.grid(True, alpha=0.3)\n",
        "\n",
        "plt.tight_layout()\n",
        "plt.show()\n",
        "\n",
        "print(f\"✅ Maximum moment: {max(M):.1f} kN⋅m at x = {L/2:.1f} m\")\n",
        "print(f\"✅ Maximum shear: {max(abs(V)):.1f} kN at supports\")\n"
      ]
    },
    {
      "cell_type": "raw",
      "metadata": {
        "vscode": {
          "languageId": "raw"
        }
      },
      "source": [
        "## 9. ALTERNATIVE EXAMPLE - POINT LOADS\n",
        "\n",
        "### 9.1 Input Parameters (Point Load Case)\n"
      ]
    },
    {
      "cell_type": "code",
      "execution_count": 34,
      "metadata": {},
      "outputs": [
        {
          "data": {
            "text/latex": [
              "\\[\n",
              "\\begin{aligned}\n",
              "L_{2} &= 6.000 \\; \\;\\textrm{(Beam span, m)}\n",
              " &P_{1} &= 50.000 \\; \\;\\textrm{(First point load, kN)}\n",
              " &P_{2} &= 75.000 \\; \\;\\textrm{(Second point load, kN)}\n",
              "\\\\[10pt]\n",
              " a_{1} &= 2.000 \\; \\;\\textrm{(Position of P1 from left support, m)}\n",
              " &a_{2} &= 4.500 \\; \\;\\textrm{(Position of P2 from left support, m)}\n",
              " &w_{D_{2}} &= 8.000 \\; \\;\\textrm{(Distributed dead load, kN/m)}\n",
              "\\\\[10pt]\n",
              "\\end{aligned}\n",
              "\\]"
            ],
            "text/plain": [
              "<IPython.core.display.Latex object>"
            ]
          },
          "metadata": {},
          "output_type": "display_data"
        }
      ],
      "source": [
        "%%render\n",
        "# Parameters - Alternative beam with point loads\n",
        "L_2 = 6.0       # Beam span, m\n",
        "P_1 = 50.0      # First point load, kN\n",
        "P_2 = 75.0      # Second point load, kN  \n",
        "a_1 = 2.0       # Position of P1 from left support, m\n",
        "a_2 = 4.5       # Position of P2 from left support, m\n",
        "w_D_2 = 8.0     # Distributed dead load, kN/m\n"
      ]
    },
    {
      "cell_type": "raw",
      "metadata": {
        "vscode": {
          "languageId": "raw"
        }
      },
      "source": [
        "### 9.2 Load Analysis\n"
      ]
    },
    {
      "cell_type": "code",
      "execution_count": 35,
      "metadata": {},
      "outputs": [
        {
          "data": {
            "text/latex": [
              "\\[\n",
              "\\begin{aligned}\n",
              "P_{1_{u}} &= \\gamma_{L} \\cdot P_{1}  = 1.600 \\cdot 50.000 &= 80.000 \\; \\;\\textrm{(Factored point load 1, kN)}\n",
              "\\\\[10pt]\n",
              "P_{2_{u}} &= \\gamma_{L} \\cdot P_{2}  = 1.600 \\cdot 75.000 &= 120.000 \\; \\;\\textrm{(Factored point load 2, kN)}\n",
              "\\\\[10pt]\n",
              "w_{D_{2_{u}}} &= \\gamma_{D} \\cdot w_{D_{2}}  = 1.200 \\cdot 8.000 &= 9.600 \\; \\;\\textrm{(Factored distributed load, kN/m)}\n",
              "\\end{aligned}\n",
              "\\]"
            ],
            "text/plain": [
              "<IPython.core.display.Latex object>"
            ]
          },
          "metadata": {},
          "output_type": "display_data"
        }
      ],
      "source": [
        "%%render\n",
        "# Factored loads (assuming point loads are live loads)\n",
        "P_1_u = gamma_L * P_1  # Factored point load 1, kN\n",
        "P_2_u = gamma_L * P_2  # Factored point load 2, kN  \n",
        "w_D_2_u = gamma_D * w_D_2  # Factored distributed load, kN/m\n"
      ]
    },
    {
      "cell_type": "code",
      "execution_count": 36,
      "metadata": {},
      "outputs": [
        {
          "data": {
            "text/latex": [
              "\\[\n",
              "\\begin{aligned}\n",
              "R_{A} &= \\frac{ P_{1_{u}} \\cdot \\left( L_{2} - a_{1} \\right) + P_{2_{u}} \\cdot \\left( L_{2} - a_{2} \\right) + w_{D_{2_{u}}} \\cdot \\frac{ \\left( L_{2} \\right) ^{ 2 } }{ 2 } }{ L_{2} } \\\\&= \\frac{ 80.000 \\cdot \\left( 6.000 - 2.000 \\right) + 120.000 \\cdot \\left( 6.000 - 4.500 \\right) + 9.600 \\cdot \\frac{ \\left( 6.000 \\right) ^{ 2 } }{ 2 } }{ 6.000 } \\\\&= 112.133 \\; \\;\\textrm{(Left reaction, kN)}\\\\[10pt]\n",
              "\\\\[10pt]\n",
              "R_{B} &= P_{1_{u}} + P_{2_{u}} + w_{D_{2_{u}}} \\cdot L_{2} - R_{A}  = 80.000 + 120.000 + 9.600 \\cdot 6.000 - 112.133 &= 145.467 \\; \\;\\textrm{(Right reaction, kN)}\n",
              "\\end{aligned}\n",
              "\\]"
            ],
            "text/plain": [
              "<IPython.core.display.Latex object>"
            ]
          },
          "metadata": {},
          "output_type": "display_data"
        }
      ],
      "source": [
        "%%render\n",
        "# Support reactions for simply supported beam\n",
        "R_A = (P_1_u * (L_2 - a_1) + P_2_u * (L_2 - a_2) + w_D_2_u * L_2**2 / 2) / L_2  # Left reaction, kN\n",
        "R_B = P_1_u + P_2_u + w_D_2_u * L_2 - R_A  # Right reaction, kN\n"
      ]
    },
    {
      "cell_type": "code",
      "execution_count": 37,
      "metadata": {},
      "outputs": [
        {
          "data": {
            "text/latex": [
              "\\[\n",
              "\\begin{aligned}\n",
              "M_{at_{P1}} &= R_{A} \\cdot a_{1} - w_{D_{2_{u}}} \\cdot \\frac{ \\left( a_{1} \\right) ^{ 2 } }{ 2 }  = 112.133 \\cdot 2.000 - 9.600 \\cdot \\frac{ \\left( 2.000 \\right) ^{ 2 } }{ 2 } &= 205.067 \\; \\;\\textrm{(Moment at P1, kN⋅m)}\n",
              "\\\\[10pt]\n",
              "M_{at_{P2}} &= R_{A} \\cdot a_{2} - P_{1_{u}} \\cdot \\left( a_{2} - a_{1} \\right) - w_{D_{2_{u}}} \\cdot \\frac{ \\left( a_{2} \\right) ^{ 2 } }{ 2 }  = 112.133 \\cdot 4.500 - 80.000 \\cdot \\left( 4.500 - 2.000 \\right) - 9.600 \\cdot \\frac{ \\left( 4.500 \\right) ^{ 2 } }{ 2 } &= 207.400 \\; \\;\\textrm{(Moment at P2, kN⋅m)}\n",
              "\\\\[10pt]\n",
              "M_{u_{2}} &= \\operatorname{max} { \\left( M_{at_{P1}} ,\\  M_{at_{P2}} \\right) }  = \\operatorname{max} { \\left( 205.067 ,\\  207.400 \\right) } &= 207.400 \\; \\;\\textrm{(Maximum moment, kN⋅m)}\n",
              "\\end{aligned}\n",
              "\\]"
            ],
            "text/plain": [
              "<IPython.core.display.Latex object>"
            ]
          },
          "metadata": {},
          "output_type": "display_data"
        }
      ],
      "source": [
        "%%render\n",
        "# Maximum moment occurs under one of the point loads\n",
        "# Check moment at P1 location\n",
        "M_at_P1 = R_A * a_1 - w_D_2_u * a_1**2 / 2  # Moment at P1, kN⋅m\n",
        "\n",
        "# Check moment at P2 location  \n",
        "M_at_P2 = R_A * a_2 - P_1_u * (a_2 - a_1) - w_D_2_u * a_2**2 / 2  # Moment at P2, kN⋅m\n",
        "\n",
        "# Maximum moment\n",
        "M_u_2 = max(M_at_P1, M_at_P2)  # Maximum moment, kN⋅m\n"
      ]
    },
    {
      "cell_type": "code",
      "execution_count": 38,
      "metadata": {},
      "outputs": [
        {
          "data": {
            "text/latex": [
              "\\[\n",
              "\\begin{aligned}\n",
              "V_{u_{2}} &= \\operatorname{max} { \\left( \\operatorname{abs} { \\left( R_{A} \\right) } ,\\  \\operatorname{abs} { \\left( R_{B} \\right) } \\right) } \\\\&= \\operatorname{max} { \\left( \\operatorname{abs} { \\left( 112.133 \\right) } ,\\  \\operatorname{abs} { \\left( 145.467 \\right) } \\right) } \\\\&= 145.467 \\; \\;\\textrm{(Maximum shear, kN)}\\\\[10pt]\n",
              "\\end{aligned}\n",
              "\\]"
            ],
            "text/plain": [
              "<IPython.core.display.Latex object>"
            ]
          },
          "metadata": {},
          "output_type": "display_data"
        }
      ],
      "source": [
        "%%render\n",
        "# Maximum shear force\n",
        "V_u_2 = max(abs(R_A), abs(R_B))  # Maximum shear, kN\n"
      ]
    },
    {
      "cell_type": "code",
      "execution_count": 39,
      "metadata": {},
      "outputs": [
        {
          "name": "stdout",
          "output_type": "stream",
          "text": [
            "POINT LOAD EXAMPLE SUMMARY:\n",
            "========================================\n",
            "Beam span: 6.0 m\n",
            "Point loads: P1 = 50.0 kN at 2.0 m, P2 = 75.0 kN at 4.5 m\n",
            "Distributed load: 8.0 kN/m\n",
            "\n",
            "FACTORED LOADS:\n",
            "P1,u = 80.0 kN, P2,u = 120.0 kN\n",
            "wu = 9.6 kN/m\n",
            "\n",
            "REACTIONS:\n",
            "RA = 112.1 kN, RB = 145.5 kN\n",
            "Check: ΣV = 257.6 kN = 257.6 kN ✓\n",
            "\n",
            "CRITICAL FORCES:\n",
            "Moment at P1: 205.1 kN⋅m\n",
            "Moment at P2: 207.4 kN⋅m\n",
            "Maximum moment: Mu = 207.4 kN⋅m\n",
            "Maximum shear: Vu = 145.5 kN\n",
            "========================================\n"
          ]
        }
      ],
      "source": [
        "print(\"POINT LOAD EXAMPLE SUMMARY:\")\n",
        "print(\"=\" * 40)\n",
        "print(f\"Beam span: {L_2} m\")\n",
        "print(f\"Point loads: P1 = {P_1} kN at {a_1} m, P2 = {P_2} kN at {a_2} m\")\n",
        "print(f\"Distributed load: {w_D_2} kN/m\")\n",
        "print()\n",
        "print(\"FACTORED LOADS:\")\n",
        "print(f\"P1,u = {P_1_u:.1f} kN, P2,u = {P_2_u:.1f} kN\")\n",
        "print(f\"wu = {w_D_2_u:.1f} kN/m\")\n",
        "print()\n",
        "print(\"REACTIONS:\")\n",
        "print(f\"RA = {R_A:.1f} kN, RB = {R_B:.1f} kN\")\n",
        "print(f\"Check: ΣV = {R_A + R_B:.1f} kN = {P_1_u + P_2_u + w_D_2_u * L_2:.1f} kN ✓\")\n",
        "print()\n",
        "print(\"CRITICAL FORCES:\")\n",
        "print(f\"Moment at P1: {M_at_P1:.1f} kN⋅m\")\n",
        "print(f\"Moment at P2: {M_at_P2:.1f} kN⋅m\")\n",
        "print(f\"Maximum moment: Mu = {M_u_2:.1f} kN⋅m\")\n",
        "print(f\"Maximum shear: Vu = {V_u_2:.1f} kN\")\n",
        "print(\"=\" * 40)\n"
      ]
    },
    {
      "cell_type": "raw",
      "metadata": {
        "vscode": {
          "languageId": "raw"
        }
      },
      "source": [
        "---\n",
        "\n",
        "## CALCULATION SHEET COMPLETE\n",
        "\n",
        "**This calculation sheet demonstrates:**\n",
        "1. ✅ Professional structural calculation format\n",
        "2. ✅ Handcalcs integration for beautiful equation rendering  \n",
        "3. ✅ ACI 318-19 compliance with SI units\n",
        "4. ✅ Modular cell structure for easy parameter adjustment\n",
        "5. ✅ Complete beam analysis with BMD/SFD diagrams\n",
        "6. ✅ Multiple loading scenarios\n",
        "7. ✅ Design verification and checks\n",
        "\n",
        "**To modify parameters:** Simply edit the input cells and re-run the notebook.\n",
        "\n",
        "**For PDF export:** Use File → Save and Export Notebook As → PDF\n",
        "\n",
        "---\n",
        "\n",
        "*Prepared using Python, Jupyter, and handcalcs for professional structural engineering calculations.*\n"
      ]
    }
  ],
  "metadata": {
    "kernelspec": {
      "display_name": "Python 3",
      "language": "python",
      "name": "python3"
    },
    "language_info": {
      "codemirror_mode": {
        "name": "ipython",
        "version": 3
      },
      "file_extension": ".py",
      "mimetype": "text/x-python",
      "name": "python",
      "nbconvert_exporter": "python",
      "pygments_lexer": "ipython3",
      "version": "3.11.1"
    }
  },
  "nbformat": 4,
  "nbformat_minor": 2
}
