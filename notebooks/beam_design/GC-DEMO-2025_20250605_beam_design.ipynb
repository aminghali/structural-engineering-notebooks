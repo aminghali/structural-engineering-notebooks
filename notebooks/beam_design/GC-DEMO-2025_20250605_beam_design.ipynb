{
  "cells": [
    {
      "cell_type": "raw",
      "metadata": {
        "vscode": {
          "languageId": "raw"
        }
      },
      "source": [
        "# Ghali Consultants - Structural Calculation Template\n",
        "**Professional Concrete Beam Design - ACI 318-19**\n",
        "\n",
        "---\n",
        "\n",
        "## Project Information\n",
        "- **Project ID**: GC-DEMO-2025-06-05\n",
        "- **Engineer**: Ahmed Ghali, P.E.\n",
        "- **Date**: 2025-06-05\n",
        "- **Description**: Demo Project for Testing\n",
        "\n",
        "---\n",
        "\n",
        "**Instructions for Use:**\n",
        "1. Fill in the beam parameters in Section 1\n",
        "2. Run all cells to perform calculations\n",
        "3. Generate PDF using: `python scripts/pdf_generator_system.py --notebook notebooks/your_notebook.ipynb --template standard`\n",
        "4. For Cambridge style: `--template cambridge`\n"
      ]
    },
    {
      "cell_type": "raw",
      "metadata": {
        "vscode": {
          "languageId": "raw"
        }
      },
      "source": [
        "## 1. Input Parameters\n",
        "### Beam Geometry and Loading\n"
      ]
    },
    {
      "cell_type": "code",
      "execution_count": null,
      "metadata": {},
      "outputs": [],
      "source": [
        "# Beam Geometry\n",
        "length = 10.0      # Beam length (m)\n",
        "width = 350       # Beam width (mm)\n",
        "height = 600      # Beam height (mm)\n",
        "cover = 50        # Concrete cover (mm)\n",
        "effective_depth = height - cover  # Effective depth (mm)\n",
        "\n",
        "# Loading\n",
        "dead_load = 30.0  # Dead load (kN/m)\n",
        "live_load = 35.0  # Live load (kN/m)\n",
        "\n",
        "# Material Properties\n",
        "fc = 25           # Concrete compressive strength (MPa)\n",
        "fy = 420          # Steel yield strength (MPa)\n",
        "\n",
        "print(f\"📐 Beam Dimensions: {width} × {height} mm\")\n",
        "print(f\"📏 Span Length: {length} m\")\n",
        "print(f\"📦 Dead Load: {dead_load} kN/m\")\n",
        "print(f\"🏃 Live Load: {live_load} kN/m\")\n",
        "print(f\"🧱 f'c = {fc} MPa\")\n",
        "print(f\"🔗 fy = {fy} MPa\")\n"
      ]
    },
    {
      "cell_type": "raw",
      "metadata": {
        "vscode": {
          "languageId": "raw"
        }
      },
      "source": [
        "## 2. Load Combinations (ACI 318-19)\n"
      ]
    },
    {
      "cell_type": "code",
      "execution_count": null,
      "metadata": {},
      "outputs": [],
      "source": [
        "# Load factors per ACI 318-19\n",
        "load_factor_dead = 1.2\n",
        "load_factor_live = 1.6\n",
        "\n",
        "# Factored loads\n",
        "factored_load = load_factor_dead * dead_load + load_factor_live * live_load\n",
        "\n",
        "print(f\"⚡ Load Combination: 1.2D + 1.6L\")\n",
        "print(f\"🔢 wu = {load_factor_dead} × {dead_load} + {load_factor_live} × {live_load}\")\n",
        "print(f\"📊 Factored Load: wu = {factored_load:.1f} kN/m\")\n"
      ]
    },
    {
      "cell_type": "raw",
      "metadata": {
        "vscode": {
          "languageId": "raw"
        }
      },
      "source": [
        "## 3. Design Forces\n"
      ]
    },
    {
      "cell_type": "code",
      "execution_count": null,
      "metadata": {},
      "outputs": [],
      "source": [
        "import numpy as np\n",
        "\n",
        "# Maximum moment and shear for simply supported beam\n",
        "max_moment = factored_load * length**2 / 8  # kN·m\n",
        "max_shear = factored_load * length / 2      # kN\n",
        "\n",
        "# Convert to N·mm for design\n",
        "mu = max_moment * 1e6  # N·mm\n",
        "vu = max_shear * 1000  # N\n",
        "\n",
        "print(f\"💪 Maximum Moment: Mu = {max_moment:.1f} kN·m\")\n",
        "print(f\"✂️  Maximum Shear: Vu = {max_shear:.1f} kN\")\n",
        "print(f\"🔧 Design Moment: Mu = {mu:.0f} N·mm\")\n",
        "print(f\"🔧 Design Shear: Vu = {vu:.0f} N\")\n"
      ]
    },
    {
      "cell_type": "raw",
      "metadata": {
        "vscode": {
          "languageId": "raw"
        }
      },
      "source": [
        "## 4. Flexural Design\n"
      ]
    },
    {
      "cell_type": "code",
      "execution_count": null,
      "metadata": {},
      "outputs": [],
      "source": [
        "# Material strength reduction factors (ACI 318-19)\n",
        "phi_flexure = 0.9\n",
        "\n",
        "# Concrete stress parameters\n",
        "beta1 = 0.85 if fc <= 28 else max(0.65, 0.85 - 0.05 * (fc - 28) / 7)\n",
        "print(f\"📏 β₁ = {beta1:.3f}\")\n",
        "\n",
        "# Required steel area calculation\n",
        "# Using approximate method: As = Mu / (phi * fy * 0.9 * d)\n",
        "arm_approx = 0.9 * effective_depth  # Approximate lever arm\n",
        "steel_area_req = mu / (phi_flexure * fy * arm_approx)  # mm²\n",
        "\n",
        "print(f\"🎯 Required Steel Area: As,req = {steel_area_req:.0f} mm²\")\n",
        "print(f\"📊 Steel Ratio: ρ = {steel_area_req / (width * effective_depth) * 100:.3f}%\")\n"
      ]
    },
    {
      "cell_type": "raw",
      "metadata": {
        "vscode": {
          "languageId": "raw"
        }
      },
      "source": [
        "## 5. Steel Reinforcement Selection\n"
      ]
    },
    {
      "cell_type": "code",
      "execution_count": null,
      "metadata": {},
      "outputs": [],
      "source": [
        "# Standard bar areas (mm²)\n",
        "bar_areas = {\n",
        "    12: 113, 16: 201, 20: 314, 25: 491, 32: 804, 40: 1257\n",
        "}\n",
        "\n",
        "# Select reinforcement\n",
        "bar_diameter = 25  # mm\n",
        "bar_area = bar_areas[bar_diameter]\n",
        "num_bars = int(np.ceil(steel_area_req / bar_area))\n",
        "steel_area_provided = num_bars * bar_area\n",
        "\n",
        "print(f\"🔗 Selected: {num_bars} × Ø{bar_diameter}mm bars\")\n",
        "print(f\"📦 Provided Steel Area: As = {steel_area_provided} mm²\")\n",
        "print(f\"✅ Area Check: {steel_area_provided / steel_area_req:.2f} × required\")\n",
        "\n",
        "# Check minimum steel\n",
        "as_min = max(0.25 * np.sqrt(fc) / fy * width * effective_depth,\n",
        "             1.4 / fy * width * effective_depth)\n",
        "print(f\"⚠️  Minimum Steel: As,min = {as_min:.0f} mm²\")\n",
        "print(f\"✅ Min Check: {'OK' if steel_area_provided >= as_min else 'FAIL'}\")\n"
      ]
    },
    {
      "cell_type": "raw",
      "metadata": {
        "vscode": {
          "languageId": "raw"
        }
      },
      "source": [
        "## 6. Shear Design\n"
      ]
    },
    {
      "cell_type": "code",
      "execution_count": null,
      "metadata": {},
      "outputs": [],
      "source": [
        "# Shear design per ACI 318-19\n",
        "phi_shear = 0.75\n",
        "\n",
        "# Concrete shear capacity\n",
        "vc = 0.17 * np.sqrt(fc) * width * effective_depth  # N\n",
        "phi_vc = phi_shear * vc\n",
        "\n",
        "print(f\"🧱 Concrete Shear Capacity: φVc = {phi_vc / 1000:.1f} kN\")\n",
        "print(f\"⚡ Applied Shear: Vu = {vu / 1000:.1f} kN\")\n",
        "\n",
        "if vu <= phi_vc:\n",
        "    print(f\"✅ Shear: OK - Concrete capacity sufficient\")\n",
        "    stirrup_requirement = \"Minimum stirrups per ACI 318-19\"\n",
        "else:\n",
        "    vs_required = vu - phi_vc  # Required steel shear capacity\n",
        "    print(f\"⚠️  Shear reinforcement required: Vs = {vs_required / 1000:.1f} kN\")\n",
        "    stirrup_requirement = f\"Design stirrups for Vs = {vs_required / 1000:.1f} kN\"\n",
        "\n",
        "print(f\"🔗 Stirrups: {stirrup_requirement}\")\n"
      ]
    },
    {
      "cell_type": "raw",
      "metadata": {
        "vscode": {
          "languageId": "raw"
        }
      },
      "source": [
        "## 7. Summary\n"
      ]
    },
    {
      "cell_type": "code",
      "execution_count": null,
      "metadata": {},
      "outputs": [],
      "source": [
        "print(\"\\n\" + \"=\"*50)\n",
        "print(\"🏗️  GHALI CONSULTANTS - DESIGN SUMMARY\")\n",
        "print(\"=\"*50)\n",
        "print(f\"Beam: {width} × {height} mm, Span = {length} m\")\n",
        "print(f\"Loading: DL = {dead_load} kN/m, LL = {live_load} kN/m\")\n",
        "print(f\"Design Forces: Mu = {max_moment:.1f} kN·m, Vu = {max_shear:.1f} kN\")\n",
        "print(f\"Main Steel: {num_bars} × Ø{bar_diameter}mm (As = {steel_area_provided} mm²)\")\n",
        "print(f\"Stirrups: {stirrup_requirement}\")\n",
        "print(f\"Materials: f'c = {fc} MPa, fy = {fy} MPa\")\n",
        "print(\"=\"*50)\n",
        "print(\"✅ Design completed per ACI 318-19\")\n",
        "print(\"📄 Ready for PDF generation\")\n"
      ]
    },
    {
      "cell_type": "raw",
      "metadata": {
        "vscode": {
          "languageId": "raw"
        }
      },
      "source": [
        "## 8. Generate PDF Report\n",
        "\n",
        "To generate a professional PDF calculation sheet:\n",
        "\n",
        "### Standard Template (Ghali Style):\n",
        "```bash\n",
        "python scripts/pdf_generator_system.py --notebook notebooks/structural_calculation_template.ipynb --template standard\n",
        "```\n",
        "\n",
        "### Cambridge Academic Template:\n",
        "```bash\n",
        "python scripts/pdf_generator_system.py --notebook notebooks/structural_calculation_template.ipynb --template cambridge\n",
        "```\n",
        "\n",
        "### Custom Parameters:\n",
        "```bash\n",
        "python scripts/pdf_generator_system.py --template standard --length 10.0 --dead-load 30.0 --live-load 40.0 --project-id GC-2025-06-05-045\n",
        "```\n"
      ]
    }
  ],
  "metadata": {
    "language_info": {
      "name": "python"
    }
  },
  "nbformat": 4,
  "nbformat_minor": 2
}
